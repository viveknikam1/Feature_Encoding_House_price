{
 "cells": [
  {
   "cell_type": "code",
   "execution_count": 1,
   "metadata": {},
   "outputs": [],
   "source": [
    "import numpy as np\n",
    "import pandas as pd\n",
    "import seaborn as sb"
   ]
  },
  {
   "cell_type": "code",
   "execution_count": 2,
   "metadata": {},
   "outputs": [],
   "source": [
    "df_train = pd.read_csv('train.csv')\n",
    "df_test = pd.read_csv('test.csv')"
   ]
  },
  {
   "cell_type": "code",
   "execution_count": 3,
   "metadata": {},
   "outputs": [
    {
     "data": {
      "text/html": [
       "<div>\n",
       "<style scoped>\n",
       "    .dataframe tbody tr th:only-of-type {\n",
       "        vertical-align: middle;\n",
       "    }\n",
       "\n",
       "    .dataframe tbody tr th {\n",
       "        vertical-align: top;\n",
       "    }\n",
       "\n",
       "    .dataframe thead th {\n",
       "        text-align: right;\n",
       "    }\n",
       "</style>\n",
       "<table border=\"1\" class=\"dataframe\">\n",
       "  <thead>\n",
       "    <tr style=\"text-align: right;\">\n",
       "      <th></th>\n",
       "      <th>Id</th>\n",
       "      <th>MSSubClass</th>\n",
       "      <th>MSZoning</th>\n",
       "      <th>LotFrontage</th>\n",
       "      <th>LotArea</th>\n",
       "      <th>Street</th>\n",
       "      <th>Alley</th>\n",
       "      <th>LotShape</th>\n",
       "      <th>LandContour</th>\n",
       "      <th>Utilities</th>\n",
       "      <th>...</th>\n",
       "      <th>PoolArea</th>\n",
       "      <th>PoolQC</th>\n",
       "      <th>Fence</th>\n",
       "      <th>MiscFeature</th>\n",
       "      <th>MiscVal</th>\n",
       "      <th>MoSold</th>\n",
       "      <th>YrSold</th>\n",
       "      <th>SaleType</th>\n",
       "      <th>SaleCondition</th>\n",
       "      <th>SalePrice</th>\n",
       "    </tr>\n",
       "  </thead>\n",
       "  <tbody>\n",
       "    <tr>\n",
       "      <th>1459</th>\n",
       "      <td>1460</td>\n",
       "      <td>20</td>\n",
       "      <td>RL</td>\n",
       "      <td>75.0</td>\n",
       "      <td>9937</td>\n",
       "      <td>Pave</td>\n",
       "      <td>NaN</td>\n",
       "      <td>Reg</td>\n",
       "      <td>Lvl</td>\n",
       "      <td>AllPub</td>\n",
       "      <td>...</td>\n",
       "      <td>0</td>\n",
       "      <td>NaN</td>\n",
       "      <td>NaN</td>\n",
       "      <td>NaN</td>\n",
       "      <td>0</td>\n",
       "      <td>6</td>\n",
       "      <td>2008</td>\n",
       "      <td>WD</td>\n",
       "      <td>Normal</td>\n",
       "      <td>147500</td>\n",
       "    </tr>\n",
       "  </tbody>\n",
       "</table>\n",
       "<p>1 rows × 81 columns</p>\n",
       "</div>"
      ],
      "text/plain": [
       "        Id  MSSubClass MSZoning  LotFrontage  LotArea Street Alley LotShape  \\\n",
       "1459  1460          20       RL         75.0     9937   Pave   NaN      Reg   \n",
       "\n",
       "     LandContour Utilities  ... PoolArea PoolQC Fence MiscFeature MiscVal  \\\n",
       "1459         Lvl    AllPub  ...        0    NaN   NaN         NaN       0   \n",
       "\n",
       "     MoSold YrSold  SaleType  SaleCondition  SalePrice  \n",
       "1459      6   2008        WD         Normal     147500  \n",
       "\n",
       "[1 rows x 81 columns]"
      ]
     },
     "execution_count": 3,
     "metadata": {},
     "output_type": "execute_result"
    }
   ],
   "source": [
    "df_train.tail(1)"
   ]
  },
  {
   "cell_type": "code",
   "execution_count": 4,
   "metadata": {},
   "outputs": [],
   "source": [
    "index_train_last = 1459"
   ]
  },
  {
   "cell_type": "code",
   "execution_count": 6,
   "metadata": {},
   "outputs": [
    {
     "name": "stderr",
     "output_type": "stream",
     "text": [
      "C:\\ProgramData\\Anaconda3\\lib\\site-packages\\ipykernel_launcher.py:1: FutureWarning: Sorting because non-concatenation axis is not aligned. A future version\n",
      "of pandas will change to not sort by default.\n",
      "\n",
      "To accept the future behavior, pass 'sort=False'.\n",
      "\n",
      "To retain the current behavior and silence the warning, pass 'sort=True'.\n",
      "\n",
      "  \"\"\"Entry point for launching an IPython kernel.\n"
     ]
    },
    {
     "data": {
      "text/plain": [
       "(2919, 81)"
      ]
     },
     "execution_count": 6,
     "metadata": {},
     "output_type": "execute_result"
    }
   ],
   "source": [
    "df_train_test = pd.concat([df_train,df_test],axis=0)\n",
    "df_train_test.shape"
   ]
  },
  {
   "cell_type": "code",
   "execution_count": 11,
   "metadata": {},
   "outputs": [
    {
     "data": {
      "text/plain": [
       "1459    147500.0\n",
       "0            NaN\n",
       "1            NaN\n",
       "2            NaN\n",
       "3            NaN\n",
       "4            NaN\n",
       "Name: SalePrice, dtype: float64"
      ]
     },
     "execution_count": 11,
     "metadata": {},
     "output_type": "execute_result"
    }
   ],
   "source": [
    "df_train_test.iloc[1459:1465]['SalePrice']"
   ]
  },
  {
   "cell_type": "code",
   "execution_count": 15,
   "metadata": {},
   "outputs": [
    {
     "data": {
      "text/plain": [
       "81"
      ]
     },
     "execution_count": 15,
     "metadata": {},
     "output_type": "execute_result"
    }
   ],
   "source": [
    "columns_obj = list(df_train_test.select_dtypes(include=['object']).columns)\n",
    "columns_non_obj = list(df_train_test.select_dtypes(exclude=['object']).columns)\n",
    "len(columns_obj)+len(columns_non_obj)"
   ]
  },
  {
   "cell_type": "code",
   "execution_count": 17,
   "metadata": {},
   "outputs": [
    {
     "data": {
      "text/plain": [
       "1stFlrSF         0.605852\n",
       "2ndFlrSF         0.319334\n",
       "3SsnPorch        0.044584\n",
       "BedroomAbvGr     0.168213\n",
       "BsmtFinSF1       0.386420\n",
       "BsmtFinSF2      -0.011378\n",
       "BsmtFullBath     0.227122\n",
       "BsmtHalfBath    -0.016844\n",
       "BsmtUnfSF        0.214479\n",
       "EnclosedPorch   -0.128578\n",
       "Fireplaces       0.466929\n",
       "FullBath         0.560664\n",
       "GarageArea       0.623431\n",
       "GarageCars       0.640409\n",
       "GarageYrBlt      0.486362\n",
       "GrLivArea        0.708624\n",
       "HalfBath         0.284108\n",
       "Id              -0.021917\n",
       "KitchenAbvGr    -0.135907\n",
       "LotArea          0.263843\n",
       "LotFrontage      0.351799\n",
       "LowQualFinSF    -0.025606\n",
       "MSSubClass      -0.084284\n",
       "MasVnrArea       0.477493\n",
       "MiscVal         -0.021190\n",
       "MoSold           0.046432\n",
       "OpenPorchSF      0.315856\n",
       "OverallCond     -0.077856\n",
       "OverallQual      0.790982\n",
       "PoolArea         0.092404\n",
       "SalePrice        1.000000\n",
       "ScreenPorch      0.111447\n",
       "TotRmsAbvGrd     0.533723\n",
       "TotalBsmtSF      0.613581\n",
       "WoodDeckSF       0.324413\n",
       "YearBuilt        0.522897\n",
       "YearRemodAdd     0.507101\n",
       "YrSold          -0.028923\n",
       "Name: SalePrice, dtype: float64"
      ]
     },
     "execution_count": 17,
     "metadata": {},
     "output_type": "execute_result"
    }
   ],
   "source": [
    "df_train[columns_non_obj].corr()['SalePrice'] \n"
   ]
  },
  {
   "cell_type": "markdown",
   "metadata": {},
   "source": [
    "#Decided to select All Non-Cat Columns"
   ]
  },
  {
   "cell_type": "code",
   "execution_count": 19,
   "metadata": {},
   "outputs": [
    {
     "data": {
      "text/plain": [
       "1stFlrSF            0\n",
       "2ndFlrSF            0\n",
       "3SsnPorch           0\n",
       "BedroomAbvGr        0\n",
       "BsmtFinSF1          1\n",
       "BsmtFinSF2          1\n",
       "BsmtFullBath        2\n",
       "BsmtHalfBath        2\n",
       "BsmtUnfSF           1\n",
       "EnclosedPorch       0\n",
       "Fireplaces          0\n",
       "FullBath            0\n",
       "GarageArea          1\n",
       "GarageCars          1\n",
       "GarageYrBlt       159\n",
       "GrLivArea           0\n",
       "HalfBath            0\n",
       "Id                  0\n",
       "KitchenAbvGr        0\n",
       "LotArea             0\n",
       "LotFrontage       486\n",
       "LowQualFinSF        0\n",
       "MSSubClass          0\n",
       "MasVnrArea         23\n",
       "MiscVal             0\n",
       "MoSold              0\n",
       "OpenPorchSF         0\n",
       "OverallCond         0\n",
       "OverallQual         0\n",
       "PoolArea            0\n",
       "SalePrice        1459\n",
       "ScreenPorch         0\n",
       "TotRmsAbvGrd        0\n",
       "TotalBsmtSF         1\n",
       "WoodDeckSF          0\n",
       "YearBuilt           0\n",
       "YearRemodAdd        0\n",
       "YrSold              0\n",
       "dtype: int64"
      ]
     },
     "execution_count": 19,
     "metadata": {},
     "output_type": "execute_result"
    }
   ],
   "source": [
    "df_train_test[columns_non_obj].isna().sum()"
   ]
  },
  {
   "cell_type": "code",
   "execution_count": 21,
   "metadata": {},
   "outputs": [
    {
     "data": {
      "text/plain": [
       "array([[<matplotlib.axes._subplots.AxesSubplot object at 0x000001E9EFD9BEB8>,\n",
       "        <matplotlib.axes._subplots.AxesSubplot object at 0x000001E9EFFA6A20>],\n",
       "       [<matplotlib.axes._subplots.AxesSubplot object at 0x000001E9EFD9DEB8>,\n",
       "        <matplotlib.axes._subplots.AxesSubplot object at 0x000001E9EFD77C50>]],\n",
       "      dtype=object)"
      ]
     },
     "execution_count": 21,
     "metadata": {},
     "output_type": "execute_result"
    },
    {
     "data": {
      "image/png": "[encoded data removed]",
      "text/plain": [
       "<Figure size 432x288 with 4 Axes>"
      ]
     },
     "metadata": {
      "needs_background": "light"
     },
     "output_type": "display_data"
    }
   ],
   "source": [
    "df_train_test[['GarageYrBlt','LotFrontage','MasVnrArea']].hist()"
   ]
  },
  {
   "cell_type": "markdown",
   "metadata": {},
   "source": [
    "#Decided to fill using mode"
   ]
  },
  {
   "cell_type": "code",
   "execution_count": 35,
   "metadata": {},
   "outputs": [],
   "source": [
    "temp = df_train_test[columns_non_obj].isna().sum()[df_train_test[columns_non_obj].isna().sum()>0].index"
   ]
  },
  {
   "cell_type": "code",
   "execution_count": 39,
   "metadata": {},
   "outputs": [
    {
     "data": {
      "text/plain": [
       "array([[<matplotlib.axes._subplots.AxesSubplot object at 0x000001E9EFD83780>,\n",
       "        <matplotlib.axes._subplots.AxesSubplot object at 0x000001E9EFCDFF28>,\n",
       "        <matplotlib.axes._subplots.AxesSubplot object at 0x000001E9EFCBF710>],\n",
       "       [<matplotlib.axes._subplots.AxesSubplot object at 0x000001E9EFE4B7B8>,\n",
       "        <matplotlib.axes._subplots.AxesSubplot object at 0x000001E9EF8A1C88>,\n",
       "        <matplotlib.axes._subplots.AxesSubplot object at 0x000001E9EF974DD8>],\n",
       "       [<matplotlib.axes._subplots.AxesSubplot object at 0x000001E9EFADBF28>,\n",
       "        <matplotlib.axes._subplots.AxesSubplot object at 0x000001E9EFB420F0>,\n",
       "        <matplotlib.axes._subplots.AxesSubplot object at 0x000001E9EFB42128>],\n",
       "       [<matplotlib.axes._subplots.AxesSubplot object at 0x000001E9EFBEB358>,\n",
       "        <matplotlib.axes._subplots.AxesSubplot object at 0x000001E9EF5EA4A8>,\n",
       "        <matplotlib.axes._subplots.AxesSubplot object at 0x000001E9EF63D5F8>]],\n",
       "      dtype=object)"
      ]
     },
     "execution_count": 39,
     "metadata": {},
     "output_type": "execute_result"
    },
    {
     "data": {
      "image/png": "[encoded data removed]",
      "text/plain": [
       "<Figure size 432x288 with 12 Axes>"
      ]
     },
     "metadata": {
      "needs_background": "light"
     },
     "output_type": "display_data"
    }
   ],
   "source": [
    "df_train_test[list(temp)].hist()"
   ]
  },
  {
   "cell_type": "code",
   "execution_count": 45,
   "metadata": {},
   "outputs": [],
   "source": [
    "val = df_train['BsmtUnfSF'].mean()\n",
    "df_train_test['BsmtUnfSF'].fillna(value = val,inplace=True)"
   ]
  },
  {
   "cell_type": "code",
   "execution_count": 47,
   "metadata": {},
   "outputs": [
    {
     "data": {
      "text/plain": [
       "0"
      ]
     },
     "execution_count": 47,
     "metadata": {},
     "output_type": "execute_result"
    }
   ],
   "source": [
    "df_train_test['BsmtUnfSF'].isna().sum()"
   ]
  },
  {
   "cell_type": "code",
   "execution_count": 51,
   "metadata": {},
   "outputs": [],
   "source": [
    "df_train_test['GarageArea'].fillna(value = df_train['GarageArea'].mean(),inplace=True)\n",
    "df_train_test['GarageYrBlt'].fillna(value = df_train['GarageYrBlt'].mean(),inplace=True)\n",
    "df_train_test['BsmtFinSF1'].fillna(value = df_train['BsmtFinSF1'].mode()[0],inplace=True)\n",
    "df_train_test['BsmtFinSF2'].fillna(value = df_train['BsmtFinSF2'].mode()[0],inplace=True)\n",
    "df_train_test['BsmtFullBath'].fillna(value = df_train['BsmtFullBath'].mode()[0],inplace=True)\n",
    "df_train_test['BsmtHalfBath'].fillna(value = df_train['BsmtHalfBath'].mode()[0],inplace=True)\n",
    "df_train_test['GarageCars'].fillna(value = df_train['GarageCars'].mean(),inplace=True)\n",
    "df_train_test['LotFrontage'].fillna(value = df_train['LotFrontage'].mode()[0],inplace=True)\n",
    "df_train_test['MasVnrArea'].fillna(value = df_train['MasVnrArea'].mode()[0],inplace=True)\n",
    "df_train_test['TotalBsmtSF'].fillna(value = df_train['TotalBsmtSF'].mean(),inplace=True)"
   ]
  },
  {
   "cell_type": "code",
   "execution_count": 52,
   "metadata": {},
   "outputs": [
    {
     "name": "stdout",
     "output_type": "stream",
     "text": [
      "<class 'pandas.core.frame.DataFrame'>\n",
      "Int64Index: 2919 entries, 0 to 1458\n",
      "Data columns (total 12 columns):\n",
      "BsmtFinSF1      2919 non-null float64\n",
      "BsmtFinSF2      2919 non-null float64\n",
      "BsmtFullBath    2919 non-null float64\n",
      "BsmtHalfBath    2919 non-null float64\n",
      "BsmtUnfSF       2919 non-null float64\n",
      "GarageArea      2919 non-null float64\n",
      "GarageCars      2919 non-null float64\n",
      "GarageYrBlt     2919 non-null float64\n",
      "LotFrontage     2919 non-null float64\n",
      "MasVnrArea      2919 non-null float64\n",
      "SalePrice       1460 non-null float64\n",
      "TotalBsmtSF     2919 non-null float64\n",
      "dtypes: float64(12)\n",
      "memory usage: 376.5 KB\n"
     ]
    }
   ],
   "source": [
    "df_train_test[temp].info()"
   ]
  },
  {
   "cell_type": "code",
   "execution_count": 53,
   "metadata": {},
   "outputs": [
    {
     "name": "stdout",
     "output_type": "stream",
     "text": [
      "<class 'pandas.core.frame.DataFrame'>\n",
      "Int64Index: 2919 entries, 0 to 1458\n",
      "Data columns (total 38 columns):\n",
      "1stFlrSF         2919 non-null int64\n",
      "2ndFlrSF         2919 non-null int64\n",
      "3SsnPorch        2919 non-null int64\n",
      "BedroomAbvGr     2919 non-null int64\n",
      "BsmtFinSF1       2919 non-null float64\n",
      "BsmtFinSF2       2919 non-null float64\n",
      "BsmtFullBath     2919 non-null float64\n",
      "BsmtHalfBath     2919 non-null float64\n",
      "BsmtUnfSF        2919 non-null float64\n",
      "EnclosedPorch    2919 non-null int64\n",
      "Fireplaces       2919 non-null int64\n",
      "FullBath         2919 non-null int64\n",
      "GarageArea       2919 non-null float64\n",
      "GarageCars       2919 non-null float64\n",
      "GarageYrBlt      2919 non-null float64\n",
      "GrLivArea        2919 non-null int64\n",
      "HalfBath         2919 non-null int64\n",
      "Id               2919 non-null int64\n",
      "KitchenAbvGr     2919 non-null int64\n",
      "LotArea          2919 non-null int64\n",
      "LotFrontage      2919 non-null float64\n",
      "LowQualFinSF     2919 non-null int64\n",
      "MSSubClass       2919 non-null int64\n",
      "MasVnrArea       2919 non-null float64\n",
      "MiscVal          2919 non-null int64\n",
      "MoSold           2919 non-null int64\n",
      "OpenPorchSF      2919 non-null int64\n",
      "OverallCond      2919 non-null int64\n",
      "OverallQual      2919 non-null int64\n",
      "PoolArea         2919 non-null int64\n",
      "SalePrice        1460 non-null float64\n",
      "ScreenPorch      2919 non-null int64\n",
      "TotRmsAbvGrd     2919 non-null int64\n",
      "TotalBsmtSF      2919 non-null float64\n",
      "WoodDeckSF       2919 non-null int64\n",
      "YearBuilt        2919 non-null int64\n",
      "YearRemodAdd     2919 non-null int64\n",
      "YrSold           2919 non-null int64\n",
      "dtypes: float64(12), int64(26)\n",
      "memory usage: 969.4 KB\n"
     ]
    }
   ],
   "source": [
    "df_train_test[columns_non_obj].info()"
   ]
  },
  {
   "cell_type": "code",
   "execution_count": 54,
   "metadata": {},
   "outputs": [
    {
     "data": {
      "text/plain": [
       "1stFlrSF         0.605852\n",
       "2ndFlrSF         0.319334\n",
       "3SsnPorch        0.044584\n",
       "BedroomAbvGr     0.168213\n",
       "BsmtFinSF1       0.386420\n",
       "BsmtFinSF2      -0.011378\n",
       "BsmtFullBath     0.227122\n",
       "BsmtHalfBath    -0.016844\n",
       "BsmtUnfSF        0.214479\n",
       "EnclosedPorch   -0.128578\n",
       "Fireplaces       0.466929\n",
       "FullBath         0.560664\n",
       "GarageArea       0.623431\n",
       "GarageCars       0.640409\n",
       "GarageYrBlt      0.470177\n",
       "GrLivArea        0.708624\n",
       "HalfBath         0.284108\n",
       "Id              -0.021917\n",
       "KitchenAbvGr    -0.135907\n",
       "LotArea          0.263843\n",
       "LotFrontage      0.329220\n",
       "LowQualFinSF    -0.025606\n",
       "MSSubClass      -0.084284\n",
       "MasVnrArea       0.472614\n",
       "MiscVal         -0.021190\n",
       "MoSold           0.046432\n",
       "OpenPorchSF      0.315856\n",
       "OverallCond     -0.077856\n",
       "OverallQual      0.790982\n",
       "PoolArea         0.092404\n",
       "SalePrice        1.000000\n",
       "ScreenPorch      0.111447\n",
       "TotRmsAbvGrd     0.533723\n",
       "TotalBsmtSF      0.613581\n",
       "WoodDeckSF       0.324413\n",
       "YearBuilt        0.522897\n",
       "YearRemodAdd     0.507101\n",
       "YrSold          -0.028923\n",
       "Name: SalePrice, dtype: float64"
      ]
     },
     "execution_count": 54,
     "metadata": {},
     "output_type": "execute_result"
    }
   ],
   "source": [
    "df_train_test[columns_non_obj].corr()['SalePrice']"
   ]
  },
  {
   "cell_type": "code",
   "execution_count": 55,
   "metadata": {},
   "outputs": [
    {
     "name": "stdout",
     "output_type": "stream",
     "text": [
      "<class 'pandas.core.frame.DataFrame'>\n",
      "Int64Index: 2919 entries, 0 to 1458\n",
      "Data columns (total 43 columns):\n",
      "Alley            198 non-null object\n",
      "BldgType         2919 non-null object\n",
      "BsmtCond         2837 non-null object\n",
      "BsmtExposure     2837 non-null object\n",
      "BsmtFinType1     2840 non-null object\n",
      "BsmtFinType2     2839 non-null object\n",
      "BsmtQual         2838 non-null object\n",
      "CentralAir       2919 non-null object\n",
      "Condition1       2919 non-null object\n",
      "Condition2       2919 non-null object\n",
      "Electrical       2918 non-null object\n",
      "ExterCond        2919 non-null object\n",
      "ExterQual        2919 non-null object\n",
      "Exterior1st      2918 non-null object\n",
      "Exterior2nd      2918 non-null object\n",
      "Fence            571 non-null object\n",
      "FireplaceQu      1499 non-null object\n",
      "Foundation       2919 non-null object\n",
      "Functional       2917 non-null object\n",
      "GarageCond       2760 non-null object\n",
      "GarageFinish     2760 non-null object\n",
      "GarageQual       2760 non-null object\n",
      "GarageType       2762 non-null object\n",
      "Heating          2919 non-null object\n",
      "HeatingQC        2919 non-null object\n",
      "HouseStyle       2919 non-null object\n",
      "KitchenQual      2918 non-null object\n",
      "LandContour      2919 non-null object\n",
      "LandSlope        2919 non-null object\n",
      "LotConfig        2919 non-null object\n",
      "LotShape         2919 non-null object\n",
      "MSZoning         2915 non-null object\n",
      "MasVnrType       2895 non-null object\n",
      "MiscFeature      105 non-null object\n",
      "Neighborhood     2919 non-null object\n",
      "PavedDrive       2919 non-null object\n",
      "PoolQC           10 non-null object\n",
      "RoofMatl         2919 non-null object\n",
      "RoofStyle        2919 non-null object\n",
      "SaleCondition    2919 non-null object\n",
      "SaleType         2918 non-null object\n",
      "Street           2919 non-null object\n",
      "Utilities        2917 non-null object\n",
      "dtypes: object(43)\n",
      "memory usage: 1.1+ MB\n"
     ]
    }
   ],
   "source": [
    "df_train_test[columns_obj].info()"
   ]
  },
  {
   "cell_type": "code",
   "execution_count": 68,
   "metadata": {},
   "outputs": [],
   "source": [
    "df_temp_train = pd.read_csv('../train.csv')\n",
    "df_temp_test = pd.read_csv('../test.csv')"
   ]
  },
  {
   "cell_type": "code",
   "execution_count": 67,
   "metadata": {},
   "outputs": [
    {
     "name": "stdout",
     "output_type": "stream",
     "text": [
      "Alley ['NotApp' 'Grvl' 'Pave']\n",
      "BldgType ['1Fam' '2fmCon' 'Duplex' 'TwnhsE' 'Twnhs']\n",
      "BsmtCond ['TA' 'Gd' 'NotApp' 'Fa' 'Po']\n",
      "BsmtExposure ['No' 'Gd' 'Mn' 'Av' 'NotApp']\n",
      "BsmtFinType1 ['GLQ' 'ALQ' 'Unf' 'Rec' 'BLQ' 'NotApp' 'LwQ']\n",
      "BsmtFinType2 ['Unf' 'BLQ' 'NotApp' 'ALQ' 'Rec' 'LwQ' 'GLQ']\n",
      "BsmtQual ['Gd' 'TA' 'Ex' 'NotApp' 'Fa']\n",
      "CentralAir ['Y' 'N']\n",
      "Condition1 ['Norm' 'Feedr' 'PosN' 'Artery' 'RRAe' 'RRNn' 'RRAn' 'PosA' 'RRNe']\n",
      "Condition2 ['Norm' 'Artery' 'RRNn' 'Feedr' 'PosN' 'PosA' 'RRAn' 'RRAe']\n",
      "Electrical ['SBrkr' 'FuseF' 'FuseA' 'FuseP' 'Mix' 'NotApp']\n",
      "ExterCond ['TA' 'Gd' 'Fa' 'Po' 'Ex']\n",
      "ExterQual ['Gd' 'TA' 'Ex' 'Fa']\n",
      "Exterior1st ['VinylSd' 'MetalSd' 'Wd Sdng' 'HdBoard' 'BrkFace' 'WdShing' 'CemntBd'\n",
      " 'Plywood' 'AsbShng' 'Stucco' 'BrkComm' 'AsphShn' 'Stone' 'ImStucc'\n",
      " 'CBlock']\n",
      "Exterior2nd ['VinylSd' 'MetalSd' 'Wd Shng' 'HdBoard' 'Plywood' 'Wd Sdng' 'CmentBd'\n",
      " 'BrkFace' 'Stucco' 'AsbShng' 'Brk Cmn' 'ImStucc' 'AsphShn' 'Stone'\n",
      " 'Other' 'CBlock']\n",
      "Fence ['NotApp' 'MnPrv' 'GdWo' 'GdPrv' 'MnWw']\n",
      "FireplaceQu ['NotApp' 'TA' 'Gd' 'Fa' 'Ex' 'Po']\n",
      "Foundation ['PConc' 'CBlock' 'BrkTil' 'Wood' 'Slab' 'Stone']\n",
      "Functional ['Typ' 'Min1' 'Maj1' 'Min2' 'Mod' 'Maj2' 'Sev']\n",
      "GarageCond ['TA' 'Fa' 'NotApp' 'Gd' 'Po' 'Ex']\n",
      "GarageFinish ['RFn' 'Unf' 'Fin' 'NotApp']\n",
      "GarageQual ['TA' 'Fa' 'Gd' 'NotApp' 'Ex' 'Po']\n",
      "GarageType ['Attchd' 'Detchd' 'BuiltIn' 'CarPort' 'NotApp' 'Basment' '2Types']\n",
      "Heating ['GasA' 'GasW' 'Grav' 'Wall' 'OthW' 'Floor']\n",
      "HeatingQC ['Ex' 'Gd' 'TA' 'Fa' 'Po']\n",
      "HouseStyle ['2Story' '1Story' '1.5Fin' '1.5Unf' 'SFoyer' 'SLvl' '2.5Unf' '2.5Fin']\n",
      "KitchenQual ['Gd' 'TA' 'Ex' 'Fa']\n",
      "LandContour ['Lvl' 'Bnk' 'Low' 'HLS']\n",
      "LandSlope ['Gtl' 'Mod' 'Sev']\n",
      "LotConfig ['Inside' 'FR2' 'Corner' 'CulDSac' 'FR3']\n",
      "LotShape ['Reg' 'IR1' 'IR2' 'IR3']\n",
      "MSZoning ['RL' 'RM' 'C (all)' 'FV' 'RH']\n",
      "MasVnrType ['BrkFace' 'None' 'Stone' 'BrkCmn' 'NotApp']\n",
      "MiscFeature ['NotApp' 'Shed' 'Gar2' 'Othr' 'TenC']\n",
      "Neighborhood ['CollgCr' 'Veenker' 'Crawfor' 'NoRidge' 'Mitchel' 'Somerst' 'NWAmes'\n",
      " 'OldTown' 'BrkSide' 'Sawyer' 'NridgHt' 'NAmes' 'SawyerW' 'IDOTRR'\n",
      " 'MeadowV' 'Edwards' 'Timber' 'Gilbert' 'StoneBr' 'ClearCr' 'NPkVill'\n",
      " 'Blmngtn' 'BrDale' 'SWISU' 'Blueste']\n",
      "PavedDrive ['Y' 'N' 'P']\n",
      "PoolQC ['NotApp' 'Ex' 'Fa' 'Gd']\n",
      "RoofMatl ['CompShg' 'WdShngl' 'Metal' 'WdShake' 'Membran' 'Tar&Grv' 'Roll'\n",
      " 'ClyTile']\n",
      "RoofStyle ['Gable' 'Hip' 'Gambrel' 'Mansard' 'Flat' 'Shed']\n",
      "SaleCondition ['Normal' 'Abnorml' 'Partial' 'AdjLand' 'Alloca' 'Family']\n",
      "SaleType ['WD' 'New' 'COD' 'ConLD' 'ConLI' 'CWD' 'ConLw' 'Con' 'Oth']\n",
      "Street ['Pave' 'Grvl']\n",
      "Utilities ['AllPub' 'NoSeWa']\n"
     ]
    }
   ],
   "source": [
    "for col in columns_obj:\n",
    "    print(col,df_temp_train[col].unique())"
   ]
  },
  {
   "cell_type": "code",
   "execution_count": 69,
   "metadata": {},
   "outputs": [
    {
     "name": "stdout",
     "output_type": "stream",
     "text": [
      "Alley ['NotApp' 'Pave' 'Grvl']\n",
      "BldgType ['1Fam' 'TwnhsE' 'Twnhs' 'Duplex' '2fmCon']\n",
      "BsmtCond ['TA' 'Po' 'Fa' 'Gd' 'NotApp']\n",
      "BsmtExposure ['No' 'Gd' 'Mn' 'Av' 'NotApp']\n",
      "BsmtFinType1 ['Rec' 'ALQ' 'GLQ' 'Unf' 'BLQ' 'LwQ' 'NotApp']\n",
      "BsmtFinType2 ['LwQ' 'Unf' 'Rec' 'BLQ' 'GLQ' 'ALQ' 'NotApp']\n",
      "BsmtQual ['TA' 'Gd' 'Ex' 'Fa' 'NotApp']\n",
      "CentralAir ['Y' 'N']\n",
      "Condition1 ['Feedr' 'Norm' 'PosN' 'RRNe' 'Artery' 'RRNn' 'PosA' 'RRAn' 'RRAe']\n",
      "Condition2 ['Norm' 'Feedr' 'PosA' 'PosN' 'Artery']\n",
      "Electrical ['SBrkr' 'FuseA' 'FuseF' 'FuseP']\n",
      "ExterCond ['TA' 'Gd' 'Fa' 'Po' 'Ex']\n",
      "ExterQual ['TA' 'Gd' 'Ex' 'Fa']\n",
      "Exterior1st ['VinylSd' 'Wd Sdng' 'HdBoard' 'Plywood' 'MetalSd' 'CemntBd' 'WdShing'\n",
      " 'BrkFace' 'AsbShng' 'BrkComm' 'Stucco' 'AsphShn' 'NotApp' 'CBlock']\n",
      "Exterior2nd ['VinylSd' 'Wd Sdng' 'HdBoard' 'Plywood' 'MetalSd' 'Brk Cmn' 'CmentBd'\n",
      " 'ImStucc' 'Wd Shng' 'AsbShng' 'Stucco' 'CBlock' 'BrkFace' 'AsphShn'\n",
      " 'NotApp' 'Stone']\n",
      "Fence ['MnPrv' 'NotApp' 'GdPrv' 'GdWo' 'MnWw']\n",
      "FireplaceQu ['NotApp' 'TA' 'Gd' 'Po' 'Fa' 'Ex']\n",
      "Foundation ['CBlock' 'PConc' 'BrkTil' 'Stone' 'Slab' 'Wood']\n",
      "Functional ['Typ' 'Min2' 'Min1' 'Mod' 'Maj1' 'Sev' 'Maj2' 'NotApp']\n",
      "GarageCond ['TA' 'NotApp' 'Fa' 'Gd' 'Po' 'Ex']\n",
      "GarageFinish ['Unf' 'Fin' 'RFn' 'NotApp']\n",
      "GarageQual ['TA' 'NotApp' 'Fa' 'Gd' 'Po']\n",
      "GarageType ['Attchd' 'Detchd' 'BuiltIn' 'NotApp' 'Basment' '2Types' 'CarPort']\n",
      "Heating ['GasA' 'GasW' 'Grav' 'Wall']\n",
      "HeatingQC ['TA' 'Gd' 'Ex' 'Fa' 'Po']\n",
      "HouseStyle ['1Story' '2Story' 'SLvl' '1.5Fin' 'SFoyer' '2.5Unf' '1.5Unf']\n",
      "KitchenQual ['TA' 'Gd' 'Ex' 'Fa' 'NotApp']\n",
      "LandContour ['Lvl' 'HLS' 'Bnk' 'Low']\n",
      "LandSlope ['Gtl' 'Mod' 'Sev']\n",
      "LotConfig ['Inside' 'Corner' 'FR2' 'CulDSac' 'FR3']\n",
      "LotShape ['Reg' 'IR1' 'IR2' 'IR3']\n",
      "MSZoning ['RH' 'RL' 'RM' 'FV' 'C (all)' 'NotApp']\n",
      "MasVnrType ['None' 'BrkFace' 'Stone' 'BrkCmn' 'NotApp']\n",
      "MiscFeature ['NotApp' 'Gar2' 'Shed' 'Othr']\n",
      "Neighborhood ['NAmes' 'Gilbert' 'StoneBr' 'BrDale' 'NPkVill' 'NridgHt' 'Blmngtn'\n",
      " 'NoRidge' 'Somerst' 'SawyerW' 'Sawyer' 'NWAmes' 'OldTown' 'BrkSide'\n",
      " 'ClearCr' 'SWISU' 'Edwards' 'CollgCr' 'Crawfor' 'Blueste' 'IDOTRR'\n",
      " 'Mitchel' 'Timber' 'MeadowV' 'Veenker']\n",
      "PavedDrive ['Y' 'N' 'P']\n",
      "PoolQC ['NotApp' 'Ex' 'Gd']\n",
      "RoofMatl ['CompShg' 'Tar&Grv' 'WdShake' 'WdShngl']\n",
      "RoofStyle ['Gable' 'Hip' 'Gambrel' 'Flat' 'Mansard' 'Shed']\n",
      "SaleCondition ['Normal' 'Partial' 'Abnorml' 'Family' 'Alloca' 'AdjLand']\n",
      "SaleType ['WD' 'COD' 'New' 'ConLD' 'Oth' 'Con' 'ConLw' 'ConLI' 'CWD' 'NotApp']\n",
      "Street ['Pave' 'Grvl']\n",
      "Utilities ['AllPub' 'NotApp']\n"
     ]
    }
   ],
   "source": [
    "for col in columns_obj:\n",
    "    print(col,df_temp_test[col].unique())"
   ]
  },
  {
   "cell_type": "code",
   "execution_count": 75,
   "metadata": {},
   "outputs": [
    {
     "name": "stderr",
     "output_type": "stream",
     "text": [
      "C:\\ProgramData\\Anaconda3\\lib\\site-packages\\ipykernel_launcher.py:1: FutureWarning: Sorting because non-concatenation axis is not aligned. A future version\n",
      "of pandas will change to not sort by default.\n",
      "\n",
      "To accept the future behavior, pass 'sort=False'.\n",
      "\n",
      "To retain the current behavior and silence the warning, pass 'sort=True'.\n",
      "\n",
      "  \"\"\"Entry point for launching an IPython kernel.\n"
     ]
    }
   ],
   "source": [
    "df_temp_murged = pd.concat([df_temp_train,df_temp_test],axis=0)"
   ]
  },
  {
   "cell_type": "code",
   "execution_count": 77,
   "metadata": {},
   "outputs": [
    {
     "name": "stdout",
     "output_type": "stream",
     "text": [
      "<class 'pandas.core.frame.DataFrame'>\n",
      "Int64Index: 2919 entries, 0 to 1458\n",
      "Data columns (total 43 columns):\n",
      "Alley            2919 non-null object\n",
      "BldgType         2919 non-null object\n",
      "BsmtCond         2919 non-null object\n",
      "BsmtExposure     2919 non-null object\n",
      "BsmtFinType1     2919 non-null object\n",
      "BsmtFinType2     2919 non-null object\n",
      "BsmtQual         2919 non-null object\n",
      "CentralAir       2919 non-null object\n",
      "Condition1       2919 non-null object\n",
      "Condition2       2919 non-null object\n",
      "Electrical       2919 non-null object\n",
      "ExterCond        2919 non-null object\n",
      "ExterQual        2919 non-null object\n",
      "Exterior1st      2919 non-null object\n",
      "Exterior2nd      2919 non-null object\n",
      "Fence            2919 non-null object\n",
      "FireplaceQu      2919 non-null object\n",
      "Foundation       2919 non-null object\n",
      "Functional       2919 non-null object\n",
      "GarageCond       2919 non-null object\n",
      "GarageFinish     2919 non-null object\n",
      "GarageQual       2919 non-null object\n",
      "GarageType       2919 non-null object\n",
      "Heating          2919 non-null object\n",
      "HeatingQC        2919 non-null object\n",
      "HouseStyle       2919 non-null object\n",
      "KitchenQual      2919 non-null object\n",
      "LandContour      2919 non-null object\n",
      "LandSlope        2919 non-null object\n",
      "LotConfig        2919 non-null object\n",
      "LotShape         2919 non-null object\n",
      "MSZoning         2919 non-null object\n",
      "MasVnrType       2919 non-null object\n",
      "MiscFeature      2919 non-null object\n",
      "Neighborhood     2919 non-null object\n",
      "PavedDrive       2919 non-null object\n",
      "PoolQC           2919 non-null object\n",
      "RoofMatl         2919 non-null object\n",
      "RoofStyle        2919 non-null object\n",
      "SaleCondition    2919 non-null object\n",
      "SaleType         2919 non-null object\n",
      "Street           2919 non-null object\n",
      "Utilities        2919 non-null object\n",
      "dtypes: object(43)\n",
      "memory usage: 1003.4+ KB\n"
     ]
    }
   ],
   "source": [
    "df_temp_murged[columns_obj].info()"
   ]
  },
  {
   "cell_type": "code",
   "execution_count": 79,
   "metadata": {},
   "outputs": [],
   "source": [
    "df_one_hot = pd.get_dummies(df_temp_murged[columns_obj],prefix=columns_obj)"
   ]
  },
  {
   "cell_type": "code",
   "execution_count": 81,
   "metadata": {},
   "outputs": [
    {
     "data": {
      "text/plain": [
       "(2919, 275)"
      ]
     },
     "execution_count": 81,
     "metadata": {},
     "output_type": "execute_result"
    }
   ],
   "source": [
    "df_one_hot.shape"
   ]
  },
  {
   "cell_type": "code",
   "execution_count": 83,
   "metadata": {},
   "outputs": [],
   "source": [
    "df_one_hot['SalePrice'] = df_train_test['SalePrice']"
   ]
  },
  {
   "cell_type": "code",
   "execution_count": 106,
   "metadata": {},
   "outputs": [],
   "source": [
    "A_high = df_one_hot.iloc[:index_train_last+1].corr()['SalePrice'][df_one_hot.iloc[:index_train_last+1].corr()['SalePrice']>0.05].index \n",
    "A_less = df_one_hot.iloc[:index_train_last+1].corr()['SalePrice'][df_one_hot.iloc[:index_train_last+1].corr()['SalePrice']<-0.05].index\n"
   ]
  },
  {
   "cell_type": "code",
   "execution_count": 89,
   "metadata": {},
   "outputs": [
    {
     "data": {
      "text/plain": [
       "1"
      ]
     },
     "execution_count": 89,
     "metadata": {},
     "output_type": "execute_result"
    }
   ],
   "source": [
    "df_one_hot.drop(['Utilities_NotApp','SaleType_NotApp'])"
   ]
  },
  {
   "cell_type": "code",
   "execution_count": 110,
   "metadata": {},
   "outputs": [
    {
     "data": {
      "text/plain": [
       "101"
      ]
     },
     "execution_count": 110,
     "metadata": {},
     "output_type": "execute_result"
    }
   ],
   "source": [
    "len(A_less)"
   ]
  },
  {
   "cell_type": "code",
   "execution_count": 109,
   "metadata": {},
   "outputs": [
    {
     "data": {
      "text/plain": [
       "64"
      ]
     },
     "execution_count": 109,
     "metadata": {},
     "output_type": "execute_result"
    }
   ],
   "source": [
    "len(A_high)"
   ]
  },
  {
   "cell_type": "code",
   "execution_count": 111,
   "metadata": {},
   "outputs": [],
   "source": [
    "columns_selected_onehot = list(A_high)+list(A_less)"
   ]
  },
  {
   "cell_type": "code",
   "execution_count": 119,
   "metadata": {},
   "outputs": [
    {
     "data": {
      "text/plain": [
       "164"
      ]
     },
     "execution_count": 119,
     "metadata": {},
     "output_type": "execute_result"
    }
   ],
   "source": [
    "columns_selected_onehot.remove('SalePrice')\n",
    "len(columns_selected_onehot)"
   ]
  },
  {
   "cell_type": "code",
   "execution_count": 114,
   "metadata": {},
   "outputs": [],
   "source": [
    "B_less = df_train[columns_non_obj].corr()['SalePrice'][df_train[columns_non_obj].corr()['SalePrice']<-0.05].index\n",
    "B_high = df_train[columns_non_obj].corr()['SalePrice'][df_train[columns_non_obj].corr()['SalePrice']>0.05].index"
   ]
  },
  {
   "cell_type": "code",
   "execution_count": 115,
   "metadata": {},
   "outputs": [
    {
     "data": {
      "text/plain": [
       "30"
      ]
     },
     "execution_count": 115,
     "metadata": {},
     "output_type": "execute_result"
    }
   ],
   "source": [
    "len(B_less) + len(B_high)"
   ]
  },
  {
   "cell_type": "code",
   "execution_count": 116,
   "metadata": {},
   "outputs": [
    {
     "data": {
      "text/plain": [
       "38"
      ]
     },
     "execution_count": 116,
     "metadata": {},
     "output_type": "execute_result"
    }
   ],
   "source": [
    "len(columns_non_obj)"
   ]
  },
  {
   "cell_type": "code",
   "execution_count": 117,
   "metadata": {},
   "outputs": [],
   "source": [
    "columns_selected_non_obj = list(B_high)+list(B_less)"
   ]
  },
  {
   "cell_type": "code",
   "execution_count": 120,
   "metadata": {},
   "outputs": [
    {
     "data": {
      "text/plain": [
       "29"
      ]
     },
     "execution_count": 120,
     "metadata": {},
     "output_type": "execute_result"
    }
   ],
   "source": [
    "columns_selected_non_obj.remove('SalePrice')\n",
    "len(columns_selected_non_obj)"
   ]
  },
  {
   "cell_type": "code",
   "execution_count": 126,
   "metadata": {},
   "outputs": [],
   "source": [
    "df_processed = pd.concat([df_train_test[columns_selected_non_obj+['SalePrice']],df_one_hot[columns_selected_onehot]],axis=1)"
   ]
  },
  {
   "cell_type": "code",
   "execution_count": 127,
   "metadata": {},
   "outputs": [
    {
     "data": {
      "text/plain": [
       "(2919, 194)"
      ]
     },
     "execution_count": 127,
     "metadata": {},
     "output_type": "execute_result"
    }
   ],
   "source": [
    "df_processed.shape"
   ]
  },
  {
   "cell_type": "code",
   "execution_count": 131,
   "metadata": {},
   "outputs": [
    {
     "data": {
      "text/plain": [
       "1stFlrSF                 0.605852\n",
       "2ndFlrSF                 0.319334\n",
       "BedroomAbvGr             0.168213\n",
       "BsmtFinSF1               0.386420\n",
       "BsmtFullBath             0.227122\n",
       "BsmtUnfSF                0.214479\n",
       "Fireplaces               0.466929\n",
       "FullBath                 0.560664\n",
       "GarageArea               0.623431\n",
       "GarageCars               0.640409\n",
       "GarageYrBlt              0.470177\n",
       "GrLivArea                0.708624\n",
       "HalfBath                 0.284108\n",
       "LotArea                  0.263843\n",
       "LotFrontage              0.329220\n",
       "MasVnrArea               0.472614\n",
       "OpenPorchSF              0.315856\n",
       "OverallQual              0.790982\n",
       "PoolArea                 0.092404\n",
       "ScreenPorch              0.111447\n",
       "TotRmsAbvGrd             0.533723\n",
       "TotalBsmtSF              0.613581\n",
       "WoodDeckSF               0.324413\n",
       "YearBuilt                0.522897\n",
       "YearRemodAdd             0.507101\n",
       "EnclosedPorch           -0.128578\n",
       "KitchenAbvGr            -0.135907\n",
       "MSSubClass              -0.084284\n",
       "OverallCond             -0.077856\n",
       "SalePrice                1.000000\n",
       "                           ...   \n",
       "KitchenQual_TA          -0.519298\n",
       "LandContour_Bnk         -0.101124\n",
       "LandSlope_Gtl           -0.051116\n",
       "LotConfig_Inside        -0.080538\n",
       "LotShape_Reg            -0.267672\n",
       "MSZoning_C (all)        -0.111257\n",
       "MSZoning_RH             -0.065429\n",
       "MSZoning_RM             -0.288065\n",
       "MasVnrType_None         -0.374468\n",
       "MiscFeature_Shed        -0.069771\n",
       "Neighborhood_BrDale     -0.101303\n",
       "Neighborhood_BrkSide    -0.143648\n",
       "Neighborhood_Edwards    -0.179949\n",
       "Neighborhood_IDOTRR     -0.164056\n",
       "Neighborhood_MeadowV    -0.112544\n",
       "Neighborhood_Mitchel    -0.057845\n",
       "Neighborhood_NAmes      -0.188513\n",
       "Neighborhood_OldTown    -0.192189\n",
       "Neighborhood_SWISU      -0.063705\n",
       "Neighborhood_Sawyer     -0.128394\n",
       "PavedDrive_N            -0.212630\n",
       "PavedDrive_P            -0.088623\n",
       "PoolQC_NotApp           -0.093708\n",
       "RoofMatl_CompShg        -0.104505\n",
       "RoofStyle_Gable         -0.224744\n",
       "SaleCondition_Abnorml   -0.118069\n",
       "SaleCondition_AdjLand   -0.050686\n",
       "SaleCondition_Normal    -0.153990\n",
       "SaleType_COD            -0.081047\n",
       "SaleType_WD             -0.242598\n",
       "Name: SalePrice, Length: 194, dtype: float64"
      ]
     },
     "execution_count": 131,
     "metadata": {},
     "output_type": "execute_result"
    }
   ],
   "source": [
    "df_processed.iloc[:index_train_last+1].corr()['SalePrice']"
   ]
  },
  {
   "cell_type": "code",
   "execution_count": 129,
   "metadata": {},
   "outputs": [],
   "source": [
    "df_processed.to_csv('Processed_27.csv',index=False)"
   ]
  },
  {
   "cell_type": "code",
   "execution_count": null,
   "metadata": {},
   "outputs": [],
   "source": [
    "X_train = df_processed.iloc[:index_train_last]"
   ]
  }
 ],
 "metadata": {
  "kernelspec": {
   "display_name": "Python 3",
   "language": "python",
   "name": "python3"
  },
  "language_info": {
   "codemirror_mode": {
    "name": "ipython",
    "version": 3
   },
   "file_extension": ".py",
   "mimetype": "text/x-python",
   "name": "python",
   "nbconvert_exporter": "python",
   "pygments_lexer": "ipython3",
   "version": "3.7.3"
  }
 },
 "nbformat": 4,
 "nbformat_minor": 2
}
